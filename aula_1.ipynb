{
 "cells": [
  {
   "cell_type": "markdown",
   "metadata": {},
   "source": []
  },
  {
   "cell_type": "code",
   "execution_count": 1,
   "metadata": {},
   "outputs": [],
   "source": [
    "#ATIVIDADE 2\n"
   ]
  },
  {
   "cell_type": "code",
   "execution_count": 2,
   "metadata": {},
   "outputs": [],
   "source": [
    "#A)"
   ]
  },
  {
   "cell_type": "code",
   "execution_count": 3,
   "metadata": {},
   "outputs": [],
   "source": [
    "import numpy as np \n",
    "import matplotlib.pyplot as plt \n",
    "from scipy.stats import linregress"
   ]
  },
  {
   "cell_type": "code",
   "execution_count": 4,
   "metadata": {},
   "outputs": [],
   "source": [
    "quantidade = np.array([10,25,50,80,90])\n",
    "custoTotal = np.array([150,290,540,840,900])"
   ]
  },
  {
   "cell_type": "code",
   "execution_count": 5,
   "metadata": {},
   "outputs": [
    {
     "name": "stdout",
     "output_type": "stream",
     "text": [
      "[10 25 50 80 90]\n"
     ]
    }
   ],
   "source": [
    "print(quantidade)"
   ]
  },
  {
   "cell_type": "code",
   "execution_count": 6,
   "metadata": {},
   "outputs": [
    {
     "name": "stdout",
     "output_type": "stream",
     "text": [
      "[150 290 540 840 900]\n"
     ]
    }
   ],
   "source": [
    "print(custoTotal)"
   ]
  },
  {
   "cell_type": "code",
   "execution_count": 7,
   "metadata": {},
   "outputs": [],
   "source": [
    "slope, intercept, r_value, p_value, std_err = linregress(quantidade, custoTotal)"
   ]
  },
  {
   "cell_type": "code",
   "execution_count": 12,
   "metadata": {},
   "outputs": [
    {
     "data": {
      "image/png": "[encoded data removed]",
      "text/plain": [
       "<Figure size 640x480 with 1 Axes>"
      ]
     },
     "metadata": {},
     "output_type": "display_data"
    }
   ],
   "source": [
    "def linha_regressao(x):\n",
    "    return slope * x + intercept\n",
    "\n",
    "plt.scatter(quantidade, custoTotal)\n",
    "plt.plot(quantidade, linha_regressao(quantidade), color='red')\n",
    "plt.xlabel('Quantidade (Kg)')\n",
    "plt.ylabel('Custo Total (R$)')\n",
    "plt.show()"
   ]
  },
  {
   "cell_type": "code",
   "execution_count": 13,
   "metadata": {},
   "outputs": [],
   "source": [
    "# c) "
   ]
  },
  {
   "cell_type": "code",
   "execution_count": 15,
   "metadata": {},
   "outputs": [
    {
     "name": "stdout",
     "output_type": "stream",
     "text": [
      "[10 25 50 80 90] [150 290 540 840 900]\n"
     ]
    }
   ],
   "source": [
    "print(quantidade, custoTotal)"
   ]
  },
  {
   "cell_type": "code",
   "execution_count": 16,
   "metadata": {},
   "outputs": [],
   "source": [
    "# Estima o custo variável total para uma produção de 180 unidades\n",
    "custoVariavelUnidade = slope\n",
    "producaoDesejada = 180\n",
    "custo_variavel_total = custoVariavelUnidade * producaoDesejada"
   ]
  },
  {
   "cell_type": "code",
   "execution_count": 18,
   "metadata": {},
   "outputs": [
    {
     "name": "stdout",
     "output_type": "stream",
     "text": [
      "O custo variavel total estimado para uma produção de 180 unidades é de R$ 1724.87\n"
     ]
    }
   ],
   "source": [
    "print(\"O custo variavel total estimado para uma produção de 180 unidades é de R$ {:.2f}\".format(custo_variavel_total))"
   ]
  },
  {
   "cell_type": "code",
   "execution_count": 20,
   "metadata": {},
   "outputs": [],
   "source": [
    "# d)"
   ]
  },
  {
   "cell_type": "code",
   "execution_count": 25,
   "metadata": {},
   "outputs": [],
   "source": [
    "precoVenda = 16,0"
   ]
  },
  {
   "cell_type": "code",
   "execution_count": 22,
   "metadata": {},
   "outputs": [],
   "source": [
    "custoFixoTotal = intercept"
   ]
  },
  {
   "cell_type": "code",
   "execution_count": 23,
   "metadata": {},
   "outputs": [],
   "source": [
    "ponto_de_equilibrio = custoFixoTotal / (precoVenda - custoVariavelUnidade)"
   ]
  },
  {
   "cell_type": "code",
   "execution_count": 26,
   "metadata": {},
   "outputs": [
    {
     "name": "stdout",
     "output_type": "stream",
     "text": [
      "A quantidade minima que deve ser produzida para obter lucro é de 8.62 unidades\n"
     ]
    }
   ],
   "source": [
    "print(\"A quantidade minima que deve ser produzida para obter lucro é de {:.2f} unidades\".format(ponto_de_equilibrio))"
   ]
  },
  {
   "cell_type": "code",
   "execution_count": 27,
   "metadata": {},
   "outputs": [],
   "source": [
    "# Atividade 3 "
   ]
  },
  {
   "cell_type": "code",
   "execution_count": 28,
   "metadata": {},
   "outputs": [
    {
     "name": "stdout",
     "output_type": "stream",
     "text": [
      "[ 16  30  35  70  80  90 120 160] [14 16 19 30 35 31 33 35]\n"
     ]
    }
   ],
   "source": [
    "numero = np.array([16,30,35,70,80,90,120,160])\n",
    "deposito = np.array([14,16,19,30,35,31,33,35])\n",
    "print(numero, deposito)"
   ]
  },
  {
   "cell_type": "code",
   "execution_count": 30,
   "metadata": {},
   "outputs": [],
   "source": [
    "slope, intercept, r_value, p_value, std_err = linregress(numero, deposito)"
   ]
  },
  {
   "cell_type": "code",
   "execution_count": 31,
   "metadata": {},
   "outputs": [
    {
     "name": "stdout",
     "output_type": "stream",
     "text": [
      "Coeficiente angular (a): 0.16\n",
      "Coeficiente linear (b): 14.80\n"
     ]
    }
   ],
   "source": [
    "print(\"Coeficiente angular (a): {:.2f}\".format(slope))\n",
    "print(\"Coeficiente linear (b): {:.2f}\".format(intercept))"
   ]
  },
  {
   "cell_type": "code",
   "execution_count": 32,
   "metadata": {},
   "outputs": [
    {
     "name": "stdout",
     "output_type": "stream",
     "text": [
      "14.96\n"
     ]
    }
   ],
   "source": [
    "y = 0.16 + 14.80\n",
    "print(y)"
   ]
  },
  {
   "cell_type": "code",
   "execution_count": 33,
   "metadata": {},
   "outputs": [],
   "source": [
    "# b)"
   ]
  },
  {
   "cell_type": "code",
   "execution_count": 34,
   "metadata": {},
   "outputs": [],
   "source": [
    "from sklearn.metrics import r2_score"
   ]
  },
  {
   "cell_type": "code",
   "execution_count": 35,
   "metadata": {},
   "outputs": [
    {
     "name": "stdout",
     "output_type": "stream",
     "text": [
      "Coeficiente  de determinação (R²): -1.47\n"
     ]
    }
   ],
   "source": [
    "r_squared = r2_score(numero, slope * deposito + intercept)\n",
    "print('Coeficiente  de determinação (R²): {:.2f}'.format(r_squared))"
   ]
  },
  {
   "cell_type": "code",
   "execution_count": 36,
   "metadata": {},
   "outputs": [
    {
     "name": "stdout",
     "output_type": "stream",
     "text": [
      "[1.14285714 1.875      1.84210526 2.33333333 2.28571429 2.90322581\n",
      " 3.63636364 4.57142857]\n"
     ]
    }
   ],
   "source": [
    "y = numero / deposito\n",
    "print(y)"
   ]
  },
  {
   "cell_type": "code",
   "execution_count": 37,
   "metadata": {},
   "outputs": [],
   "source": [
    "slope, intercept, r_value, p_value, std_err = linregress(numero, y)"
   ]
  },
  {
   "cell_type": "code",
   "execution_count": 38,
   "metadata": {},
   "outputs": [],
   "source": [
    "yi = slope * numero * y\n",
    "residuos = deposito-yi"
   ]
  },
  {
   "cell_type": "code",
   "execution_count": 39,
   "metadata": {},
   "outputs": [
    {
     "name": "stdout",
     "output_type": "stream",
     "text": [
      "[13.59598004 14.75716516 17.57546416 26.39117587 30.9598004  25.22683171\n",
      " 23.35861458 18.83920158]\n"
     ]
    }
   ],
   "source": [
    "print(residuos)"
   ]
  },
  {
   "cell_type": "code",
   "execution_count": null,
   "metadata": {},
   "outputs": [],
   "source": []
  }
 ],
 "metadata": {
  "kernelspec": {
   "display_name": "base",
   "language": "python",
   "name": "python3"
  },
  "language_info": {
   "codemirror_mode": {
    "name": "ipython",
    "version": 3
   },
   "file_extension": ".py",
   "mimetype": "text/x-python",
   "name": "python",
   "nbconvert_exporter": "python",
   "pygments_lexer": "ipython3",
   "version": "3.9.13"
  },
  "orig_nbformat": 4
 },
 "nbformat": 4,
 "nbformat_minor": 2
}
